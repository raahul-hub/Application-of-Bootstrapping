{
 "cells": [
  {
   "cell_type": "markdown",
   "metadata": {
    "id": "3sNKZq4XrXQh"
   },
   "source": [
    "# <font color='red'><b>Bootstrap assignment</b> </font>\n",
    "\n",
    "                                                                                                   Submitted By- Rahul Dable"
   ]
  },
  {
   "cell_type": "markdown",
   "metadata": {
    "id": "RAHap1Z3FZC-"
   },
   "source": [
    "<b>There will be some functions that start with the word \"grader\" ex: grader_sampples(), grader_30().. etc, you should not change those function definition.\n",
    "\n",
    "Every Grader function has to return True.</b>"
   ]
  },
  {
   "cell_type": "markdown",
   "metadata": {
    "id": "cuxBq_bvrwh2"
   },
   "source": [
    "<font color='blue'> <b>Importing packages</b> </font>"
   ]
  },
  {
   "cell_type": "code",
   "execution_count": 1,
   "metadata": {
    "id": "m6ag91ijrQOs"
   },
   "outputs": [],
   "source": [
    "import numpy as np # importing numpy for numerical computation\n",
    "from sklearn.datasets import load_boston # here we are using sklearn's boston dataset\n",
    "from sklearn.metrics import mean_squared_error # importing mean_squared_error metric"
   ]
  },
  {
   "cell_type": "code",
   "execution_count": 2,
   "metadata": {
    "id": "CcHOsONTt1K_"
   },
   "outputs": [],
   "source": [
    "boston = load_boston()\n",
    "X=boston.data #independent variables\n",
    "y=boston.target #target variable"
   ]
  },
  {
   "cell_type": "code",
   "execution_count": 3,
   "metadata": {
    "id": "YWQp6tRwMthq"
   },
   "outputs": [],
   "source": [
    "import numpy as np\n",
    "import pandas as pd\n",
    "from tqdm import tqdm\n",
    "import itertools\n",
    "import random\n",
    "from sklearn import metrics\n",
    "import math\n",
    "from tqdm import tqdm\n",
    "from joblib import dump, load\n",
    "\n",
    "from sklearn.tree import DecisionTreeRegressor\n",
    "\n"
   ]
  },
  {
   "cell_type": "code",
   "execution_count": 4,
   "metadata": {
    "id": "JBm0D3hJsrGJ"
   },
   "outputs": [],
   "source": [
    "dt_reg = DecisionTreeRegressor(max_depth=None, splitter='random')"
   ]
  },
  {
   "cell_type": "markdown",
   "metadata": {
    "id": "AEa_HqRZloH4"
   },
   "source": [
    "## <font color='red'><b>Task 1</b></font>"
   ]
  },
  {
   "cell_type": "markdown",
   "metadata": {
    "id": "YQ5q8IxHNRk3"
   },
   "source": [
    "<font color='red'> <b>Step - 1</b></font>"
   ]
  },
  {
   "cell_type": "markdown",
   "metadata": {
    "id": "GJCFCaOzl7Mr"
   },
   "source": [
    "*  <font color='blue'><b>Creating samples</b></font><br>\n",
    "    <b> Randomly create 30 samples from the whole boston data points</b>\n",
    "    *  Creating each sample: Consider any random 303(60% of 506) data points from whole data set and then replicate any 203 points from the sampled points\n",
    "    \n",
    "     For better understanding of this procedure lets check this examples, assume we have 10 data points [1,2,3,4,5,6,7,8,9,10], first we take 6 data points randomly , consider we have selected [4, 5, 7, 8, 9, 3] now we will replicate 4 points from [4, 5, 7, 8, 9, 3], consder they are [5, 8, 3,7] so our final sample will be [4, 5, 7, 8, 9, 3, 5, 8, 3,7]\n",
    "* <font color='blue'><b> Create 30 samples </b></font>\n",
    "    *  Note that as a part of the Bagging when you are taking the random samples <b>make sure each of the sample will have different set of columns</b><br>\n",
    "Ex: Assume we have 10 columns[1 ,2 ,3 ,4 ,5 ,6 ,7 ,8 ,9 ,10] for the first sample we will select [3, 4, 5, 9, 1, 2] and for the second sample  [7, 9, 1, 4, 5, 6, 2] and so on...\n",
    "Make sure each sample will have atleast 3 feautres/columns/attributes"
   ]
  },
  {
   "cell_type": "markdown",
   "metadata": {
    "id": "zUqFEBSvNjCa"
   },
   "source": [
    "<font color='red'><b>Step - 2 </b></font>"
   ]
  },
  {
   "cell_type": "markdown",
   "metadata": {
    "id": "uqi9AhCYNq3Z"
   },
   "source": [
    "<font color='blue'><b>Building High Variance Models on each of the sample and finding train MSE value</b></font>"
   ]
  },
  {
   "cell_type": "markdown",
   "metadata": {
    "id": "-lLBnZHXOFln"
   },
   "source": [
    "*  Build a regression trees on each of 30 samples.\n",
    "*  Computed the predicted values of each data point(506 data points) in your corpus.\n",
    "*  Predicted house price of $i^{th}$ data point $y^{i}_{pred} =  \\frac{1}{30}\\sum_{k=1}^{30}(\\text{predicted value of } x^{i} \\text{ with } k^{th} \\text{ model})$\n",
    "*  Now calculate the $MSE =  \\frac{1}{506}\\sum_{i=1}^{506}(y^{i} - y^{i}_{pred})^{2}$"
   ]
  },
  {
   "cell_type": "markdown",
   "metadata": {
    "id": "Kls23JLnSN23"
   },
   "source": [
    "<font color='red'> <b>Step - 3 </b></font>"
   ]
  },
  {
   "cell_type": "markdown",
   "metadata": {
    "id": "rz2GchkGSWnh"
   },
   "source": [
    "*  <font color='blue'><b>Calculating the OOB score </b></font>"
   ]
  },
  {
   "cell_type": "markdown",
   "metadata": {
    "id": "DGHkVV2kSibm"
   },
   "source": [
    "*  Predicted house price of $i^{th}$ data point $y^{i}_{pred} =  \\frac{1}{k}\\sum_{\\text{k= model which was buit on samples not included } x^{i}}(\\text{predicted value of } x^{i} \\text{ with } k^{th} \\text{ model})$.\n",
    "*  Now calculate the $OOB Score =  \\frac{1}{506}\\sum_{i=1}^{506}(y^{i} - y^{i}_{pred})^{2}$."
   ]
  },
  {
   "cell_type": "markdown",
   "metadata": {
    "id": "RK860ocxTyoz"
   },
   "source": [
    "# <font color='red'><b>Task 2</b></font>"
   ]
  },
  {
   "cell_type": "markdown",
   "metadata": {
    "id": "1dme-N6TUCrY"
   },
   "source": [
    "*  <font color='blue'><b>Computing CI of OOB Score and Train MSE</b></font>\n",
    "  *   Repeat Task 1 for 35 times, and for each iteration store the Train MSE and OOB score </li>\n",
    "<li> After this we will have 35 Train MSE values and 35 OOB scores </li>\n",
    "<li> using these 35 values (assume like a sample) find the confidence intravels of MSE and OOB Score </li>\n",
    "<li> you need to report CI of MSE and CI of OOB Score </li>\n",
    "<li> Note: Refer the Central_Limit_theorem.ipynb to check how to find the confidence intravel</li>\n",
    "</ol>"
   ]
  },
  {
   "cell_type": "markdown",
   "metadata": {
    "id": "O6UcH1x9Uwrj"
   },
   "source": [
    "# <font color='red'><b>Task 3</b></font>"
   ]
  },
  {
   "cell_type": "markdown",
   "metadata": {
    "id": "bOC_AgsLU7OH"
   },
   "source": [
    "*  <font color='blue'><b>Given a single query point predict the price of house.</b></font>"
   ]
  },
  {
   "cell_type": "markdown",
   "metadata": {
    "id": "HYs5jSFdVILe"
   },
   "source": [
    "Consider xq= [0.18,20.0,5.00,0.0,0.421,5.60,72.2,7.95,7.0,30.0,19.1,372.13,18.60] \n",
    "Predict the house price for this point as mentioned in the step 2 of Task 1."
   ]
  },
  {
   "cell_type": "markdown",
   "metadata": {
    "id": "V2fHTdS_zpgG"
   },
   "source": [
    "# <font color='blue'> <b>Task - 1</b></font>"
   ]
  },
  {
   "cell_type": "markdown",
   "metadata": {
    "id": "e0yGBuryOwHz"
   },
   "source": [
    "<font color='blue'><b>Step - 1</b></font>"
   ]
  },
  {
   "cell_type": "markdown",
   "metadata": {
    "id": "lJXX8vf3z073"
   },
   "source": [
    "*  <font color='blue'> <b>Creating samples</b></font>"
   ]
  },
  {
   "cell_type": "markdown",
   "metadata": {
    "id": "CSVaWG1F4uCZ"
   },
   "source": [
    "<font color='Orange'><b>Algorithm</b></font>\n",
    "\n",
    "![alt text](https://i.imgur.com/BTVYXQ1.jpg/)"
   ]
  },
  {
   "cell_type": "markdown",
   "metadata": {
    "id": "f_oWoN97BhDY"
   },
   "source": [
    "*  <font color='blue'><b> Write code for generating samples</b></font>"
   ]
  },
  {
   "cell_type": "code",
   "execution_count": 5,
   "metadata": {
    "id": "Ph_6D2SDzz7F"
   },
   "outputs": [],
   "source": [
    "def generating_samples(input_data, target_data):\n",
    "    \n",
    "    '''In this function, we will write code for generating 30 samples '''\n",
    "    # you can use random.choice to generate random indices without replacement\n",
    "    # Please have a look at this link https://docs.scipy.org/doc/numpy-1.16.0/reference/generated/numpy.random.choice.html for more details\n",
    "    # Please follow above pseudo code for generating samples \n",
    "    #creating a random sample of size 60% data\n",
    "    \n",
    "    #creating DataFrames from the loaded data\n",
    "    X = pd.DataFrame(input_data)\n",
    "    y = pd.DataFrame(target_data)\n",
    "\n",
    "    #Attaching target variable to the dataset before row and column sampling\n",
    "    Data = X\n",
    "    Data['Target'] = y\n",
    "    \n",
    "    #Data = input_data\n",
    "    #Data['Target'] = target_data\n",
    "    \n",
    "    X1 = Data.sample(n=303, weights='Target', replace=False, axis=0, random_state= None)\n",
    "    X2 = X1.sample(n = 203, weights='Target', replace=False, axis=0, random_state=None)\n",
    "    X_sample = pd.concat([X1, X2], copy=True)\n",
    "    \n",
    "\n",
    "    # ROW and COLUMN sampling\n",
    "    randomlist = []\n",
    "    i = random.randint(4,12)\n",
    "    for i in range (0, i):\n",
    "        n = random.randint(3,12)\n",
    "        randomlist.append(n)\n",
    "    list(set(randomlist))\n",
    "    \n",
    "\n",
    "    #Training Dataset, (column sampling)\n",
    "    XY_sample = X_sample.iloc[:, list(set([*randomlist, 13]))]\n",
    "\n",
    "    #Splitting data into data and target variable\n",
    "    sampled_data = XY_sample.drop('Target', axis=1)\n",
    "    sampled_target = XY_sample[['Target']]\n",
    "    \n",
    "    selecting_rows = list(X1.index)\n",
    "    selecting_columns = randomlist\n",
    "    \n",
    "    return sampled_data , sampled_target, selecting_rows, selecting_columns"
   ]
  },
  {
   "cell_type": "markdown",
   "metadata": {
    "id": "MivEQFlm7iOg"
   },
   "source": [
    "<font color='cyan'> <b> Grader function - 1 </b> </fongt>"
   ]
  },
  {
   "cell_type": "code",
   "execution_count": 6,
   "metadata": {
    "colab": {
     "base_uri": "https://localhost:8080/",
     "height": 72
    },
    "id": "AVvuhNzm7uld",
    "outputId": "7329fcb3-cb95-48ff-b68a-2aa4cc0041e3"
   },
   "outputs": [
    {
     "data": {
      "text/plain": [
       "'def grader_samples(a,b,c,d):\\n    length = (len(a)==506  and len(b)==506)\\n    sampled = (len(a)-len(set([str(i) for i in a]))==203)\\n    rows_length = (len(c)==303)\\n    column_length= (len(d)>=3)\\n    assert(length and sampled and rows_length and column_length)\\n    return True\\na,b,c,d = generating_samples(X, y)\\ngrader_samples(a,b,c,d)'"
      ]
     },
     "execution_count": 6,
     "metadata": {},
     "output_type": "execute_result"
    }
   ],
   "source": [
    "'''def grader_samples(a,b,c,d):\n",
    "    length = (len(a)==506  and len(b)==506)\n",
    "    sampled = (len(a)-len(set([str(i) for i in a]))==203)\n",
    "    rows_length = (len(c)==303)\n",
    "    column_length= (len(d)>=3)\n",
    "    assert(length and sampled and rows_length and column_length)\n",
    "    return True\n",
    "a,b,c,d = generating_samples(X, y)\n",
    "grader_samples(a,b,c,d)'''"
   ]
  },
  {
   "cell_type": "markdown",
   "metadata": {
    "id": "So-2z7Ylzokk"
   },
   "source": [
    "**Observation:**\n",
    "Here Grader functionis throwing AssertionError. In the third line, i.e. **len(set([str(i) for i in a]))** returning number of columns while we are comparing it with number of rows. "
   ]
  },
  {
   "cell_type": "markdown",
   "metadata": {
    "id": "b4LSsmn4Jn2_"
   },
   "source": [
    "*  <font color='blue'> <b>Create 30 samples </b>"
   ]
  },
  {
   "cell_type": "markdown",
   "metadata": {
    "id": "3ec7MN6sL2BZ"
   },
   "source": [
    "![alt text](https://i.imgur.com/p8eZaWL.jpg)"
   ]
  },
  {
   "cell_type": "code",
   "execution_count": 7,
   "metadata": {
    "id": "XXlKWjCcBvTk"
   },
   "outputs": [],
   "source": [
    "# Use generating_samples function to create 30 samples \n",
    "# store these created samples in a list\n",
    "list_input_data =[]\n",
    "list_output_data =[]\n",
    "list_selected_row= []\n",
    "list_selected_columns=[]\n",
    "\n",
    "for i in range(0,30,1):\n",
    "    a,b,c,d = generating_samples(X, y)\n",
    "    list_input_data.append(a)\n",
    "    list_output_data.append(b)\n",
    "    list_selected_row.append(c)\n",
    "    list_selected_columns.append(d)"
   ]
  },
  {
   "cell_type": "markdown",
   "metadata": {
    "id": "MXUz9VFiMQkh"
   },
   "source": [
    "<font color='cyan'> <b>Grader function - 2 </b></font>"
   ]
  },
  {
   "cell_type": "code",
   "execution_count": 8,
   "metadata": {
    "colab": {
     "base_uri": "https://localhost:8080/"
    },
    "id": "hCvIq8NuMWOC",
    "outputId": "5338318f-c8cf-41f5-c7b4-96f5f0843024"
   },
   "outputs": [
    {
     "data": {
      "text/plain": [
       "True"
      ]
     },
     "execution_count": 8,
     "metadata": {},
     "output_type": "execute_result"
    }
   ],
   "source": [
    "def grader_30(a):\n",
    "    assert(len(a)==30 and len(a[0])==506)\n",
    "    return True\n",
    "grader_30(list_input_data)"
   ]
  },
  {
   "cell_type": "markdown",
   "metadata": {
    "id": "7Pv-mkZkO6dh"
   },
   "source": [
    "<br>"
   ]
  },
  {
   "cell_type": "markdown",
   "metadata": {
    "id": "whaHCPB0O8qF"
   },
   "source": [
    "<font color='red'><b>Step - 2 </b></font>"
   ]
  },
  {
   "cell_type": "markdown",
   "metadata": {
    "id": "XBy4zXSWPtU8"
   },
   "source": [
    "<font color='orange'><b>Flowchart for building tree</b></font>"
   ]
  },
  {
   "cell_type": "markdown",
   "metadata": {
    "id": "5xvH06HPQBdP"
   },
   "source": [
    "![alt text](https://i.imgur.com/pcXfSmp.png)"
   ]
  },
  {
   "cell_type": "markdown",
   "metadata": {
    "id": "WRwPO_uHQjul"
   },
   "source": [
    "*  <font color='blue'><b> Write code for building regression trees</b></font>"
   ]
  },
  {
   "cell_type": "markdown",
   "metadata": {
    "id": "I6ZgfjMbzokn"
   },
   "source": [
    "We have Input Data  and Target Variable Stored in list_input_data and list_output_data respectively. Need to fit model in each sample and store in a list."
   ]
  },
  {
   "cell_type": "markdown",
   "metadata": {
    "id": "OFq5NA8szokn"
   },
   "source": [
    "**With Joblib**"
   ]
  },
  {
   "cell_type": "code",
   "execution_count": 9,
   "metadata": {
    "id": "T_c67QlKzokn"
   },
   "outputs": [],
   "source": [
    "#Training Base Models\n",
    "from joblib import dump, load\n",
    "\n",
    "model_names_joblib = []\n",
    "model_names = []\n",
    "list_of_all_models = []\n",
    "for i in range(0,len(list_input_data),1):\n",
    "    #print(\"model {}\".format(i))\n",
    "    joblib_ = str(\"Model_\") + str(i) + str(\".joblib\")\n",
    "    model_ = str(\"Model_\") + str(i)\n",
    "    model_names.append(model_)\n",
    "    model_names_joblib.append(joblib_)\n",
    "    list_of_all_models.append(model_)\n",
    "#print(model_names_joblib)\n",
    "#print(model_names)\n",
    "\n",
    "for i in range(0,len(list_input_data),1):\n",
    "    model = dt_reg.fit(list_input_data[i], list_output_data[i])\n",
    "    list_of_all_models[i] = dump(model, model_names_joblib[i])\n",
    "\n",
    "#list_of_all_models"
   ]
  },
  {
   "cell_type": "markdown",
   "metadata": {
    "id": "laIhYfSizoko"
   },
   "source": [
    "Check if models are fitted correctly w.r.t. input sampled data"
   ]
  },
  {
   "cell_type": "code",
   "execution_count": 10,
   "metadata": {
    "colab": {
     "base_uri": "https://localhost:8080/"
    },
    "id": "Kg8fK52Ozoko",
    "outputId": "afdbe278-d25e-4436-9ad1-429364953c64"
   },
   "outputs": [
    {
     "name": "stdout",
     "output_type": "stream",
     "text": [
      "Number of features for Model11 is 6\n",
      "Number of features in sample input 11 is 6\n"
     ]
    }
   ],
   "source": [
    "i = 11\n",
    "clf = load(*list_of_all_models[i])\n",
    "print(\"Number of features for Model{0} is {1}\".format(i, clf.n_features_))\n",
    "print(\"Number of features in sample input {0} is {1}\".format(i, len(list_input_data[i].columns)))"
   ]
  },
  {
   "cell_type": "markdown",
   "metadata": {
    "id": "6e-UamlHRjPy"
   },
   "source": [
    "After getting predicted_y for each data point, we can use sklearns mean_squared_error to calculate the MSE between predicted_y and actual_y."
   ]
  },
  {
   "cell_type": "code",
   "execution_count": 11,
   "metadata": {
    "id": "EVAohYj_zoko"
   },
   "outputs": [],
   "source": [
    "def evaluate_reg(y_true:\"true class label\",\n",
    "                 y_pred:\"predicted class label\") -> 'returns performance measures':\n",
    "    #print(\"Variance Score is         :\", metrics.explained_variance_score(y_true, y_pred))\n",
    "    #print(\"Mean Absolute Error is    :\", metrics.mean_absolute_error(y_true, y_pred))\n",
    "    #print(\"Mean Squared Log Error is :\", metrics.mean_squared_log_error(y_true, y_pred))\n",
    "    print(\"Mean Squared Error is     :\", metrics.mean_squared_error(y_true, y_pred))\n",
    "    #print(\"R2 Score, the coefficient of determination is :\", metrics.r2_score(y_true, y_pred))\n",
    "    #print(\"-\"*66)"
   ]
  },
  {
   "cell_type": "markdown",
   "metadata": {
    "id": "62-pnuKrzokp"
   },
   "source": [
    "Training with joblib models"
   ]
  },
  {
   "cell_type": "code",
   "execution_count": 12,
   "metadata": {
    "colab": {
     "base_uri": "https://localhost:8080/",
     "height": 218
    },
    "id": "NC2O3o8Kzokp",
    "outputId": "adb9be07-fb5d-4ca3-ac28-35f48b91f033"
   },
   "outputs": [
    {
     "data": {
      "text/html": [
       "<div>\n",
       "<style scoped>\n",
       "    .dataframe tbody tr th:only-of-type {\n",
       "        vertical-align: middle;\n",
       "    }\n",
       "\n",
       "    .dataframe tbody tr th {\n",
       "        vertical-align: top;\n",
       "    }\n",
       "\n",
       "    .dataframe thead th {\n",
       "        text-align: right;\n",
       "    }\n",
       "</style>\n",
       "<table border=\"1\" class=\"dataframe\">\n",
       "  <thead>\n",
       "    <tr style=\"text-align: right;\">\n",
       "      <th></th>\n",
       "      <th>Model_0</th>\n",
       "      <th>Model_1</th>\n",
       "      <th>Model_2</th>\n",
       "      <th>Model_3</th>\n",
       "      <th>Model_4</th>\n",
       "      <th>Model_5</th>\n",
       "      <th>Model_6</th>\n",
       "      <th>Model_7</th>\n",
       "      <th>Model_8</th>\n",
       "      <th>Model_9</th>\n",
       "      <th>...</th>\n",
       "      <th>Model_22</th>\n",
       "      <th>Model_23</th>\n",
       "      <th>Model_24</th>\n",
       "      <th>Model_25</th>\n",
       "      <th>Model_26</th>\n",
       "      <th>Model_27</th>\n",
       "      <th>Model_28</th>\n",
       "      <th>Model_29</th>\n",
       "      <th>y_pred</th>\n",
       "      <th>y_true</th>\n",
       "    </tr>\n",
       "  </thead>\n",
       "  <tbody>\n",
       "    <tr>\n",
       "      <th>0</th>\n",
       "      <td>32.7</td>\n",
       "      <td>29.4</td>\n",
       "      <td>29.8</td>\n",
       "      <td>24.0</td>\n",
       "      <td>20.650000</td>\n",
       "      <td>24.0</td>\n",
       "      <td>24.0</td>\n",
       "      <td>32.7</td>\n",
       "      <td>24.0</td>\n",
       "      <td>24.0</td>\n",
       "      <td>...</td>\n",
       "      <td>24.0</td>\n",
       "      <td>24.0</td>\n",
       "      <td>24.0</td>\n",
       "      <td>18.9</td>\n",
       "      <td>24.0</td>\n",
       "      <td>24.0</td>\n",
       "      <td>24.0</td>\n",
       "      <td>24.0</td>\n",
       "      <td>25.70</td>\n",
       "      <td>24.0</td>\n",
       "    </tr>\n",
       "    <tr>\n",
       "      <th>1</th>\n",
       "      <td>39.8</td>\n",
       "      <td>21.6</td>\n",
       "      <td>21.6</td>\n",
       "      <td>21.6</td>\n",
       "      <td>33.666667</td>\n",
       "      <td>22.2</td>\n",
       "      <td>16.5</td>\n",
       "      <td>23.6</td>\n",
       "      <td>39.8</td>\n",
       "      <td>21.6</td>\n",
       "      <td>...</td>\n",
       "      <td>21.6</td>\n",
       "      <td>21.6</td>\n",
       "      <td>21.6</td>\n",
       "      <td>21.6</td>\n",
       "      <td>22.6</td>\n",
       "      <td>21.6</td>\n",
       "      <td>22.6</td>\n",
       "      <td>21.6</td>\n",
       "      <td>23.73</td>\n",
       "      <td>21.6</td>\n",
       "    </tr>\n",
       "    <tr>\n",
       "      <th>2</th>\n",
       "      <td>44.8</td>\n",
       "      <td>34.7</td>\n",
       "      <td>50.0</td>\n",
       "      <td>34.7</td>\n",
       "      <td>34.700000</td>\n",
       "      <td>34.7</td>\n",
       "      <td>31.2</td>\n",
       "      <td>34.7</td>\n",
       "      <td>34.7</td>\n",
       "      <td>34.7</td>\n",
       "      <td>...</td>\n",
       "      <td>28.7</td>\n",
       "      <td>34.7</td>\n",
       "      <td>34.7</td>\n",
       "      <td>34.7</td>\n",
       "      <td>34.7</td>\n",
       "      <td>34.7</td>\n",
       "      <td>28.7</td>\n",
       "      <td>34.7</td>\n",
       "      <td>35.02</td>\n",
       "      <td>34.7</td>\n",
       "    </tr>\n",
       "    <tr>\n",
       "      <th>3</th>\n",
       "      <td>33.4</td>\n",
       "      <td>33.4</td>\n",
       "      <td>33.4</td>\n",
       "      <td>33.4</td>\n",
       "      <td>33.400000</td>\n",
       "      <td>33.4</td>\n",
       "      <td>33.4</td>\n",
       "      <td>33.4</td>\n",
       "      <td>33.4</td>\n",
       "      <td>24.8</td>\n",
       "      <td>...</td>\n",
       "      <td>33.4</td>\n",
       "      <td>33.4</td>\n",
       "      <td>33.1</td>\n",
       "      <td>33.4</td>\n",
       "      <td>33.4</td>\n",
       "      <td>33.4</td>\n",
       "      <td>34.9</td>\n",
       "      <td>50.0</td>\n",
       "      <td>33.90</td>\n",
       "      <td>33.4</td>\n",
       "    </tr>\n",
       "    <tr>\n",
       "      <th>4</th>\n",
       "      <td>28.7</td>\n",
       "      <td>36.2</td>\n",
       "      <td>34.9</td>\n",
       "      <td>36.2</td>\n",
       "      <td>25.170000</td>\n",
       "      <td>36.2</td>\n",
       "      <td>36.2</td>\n",
       "      <td>36.2</td>\n",
       "      <td>36.2</td>\n",
       "      <td>28.7</td>\n",
       "      <td>...</td>\n",
       "      <td>36.2</td>\n",
       "      <td>33.0</td>\n",
       "      <td>36.2</td>\n",
       "      <td>36.2</td>\n",
       "      <td>33.0</td>\n",
       "      <td>36.2</td>\n",
       "      <td>36.2</td>\n",
       "      <td>28.7</td>\n",
       "      <td>34.28</td>\n",
       "      <td>36.2</td>\n",
       "    </tr>\n",
       "  </tbody>\n",
       "</table>\n",
       "<p>5 rows × 32 columns</p>\n",
       "</div>"
      ],
      "text/plain": [
       "   Model_0  Model_1  Model_2  Model_3    Model_4  Model_5  Model_6  Model_7  \\\n",
       "0     32.7     29.4     29.8     24.0  20.650000     24.0     24.0     32.7   \n",
       "1     39.8     21.6     21.6     21.6  33.666667     22.2     16.5     23.6   \n",
       "2     44.8     34.7     50.0     34.7  34.700000     34.7     31.2     34.7   \n",
       "3     33.4     33.4     33.4     33.4  33.400000     33.4     33.4     33.4   \n",
       "4     28.7     36.2     34.9     36.2  25.170000     36.2     36.2     36.2   \n",
       "\n",
       "   Model_8  Model_9  ...  Model_22  Model_23  Model_24  Model_25  Model_26  \\\n",
       "0     24.0     24.0  ...      24.0      24.0      24.0      18.9      24.0   \n",
       "1     39.8     21.6  ...      21.6      21.6      21.6      21.6      22.6   \n",
       "2     34.7     34.7  ...      28.7      34.7      34.7      34.7      34.7   \n",
       "3     33.4     24.8  ...      33.4      33.4      33.1      33.4      33.4   \n",
       "4     36.2     28.7  ...      36.2      33.0      36.2      36.2      33.0   \n",
       "\n",
       "   Model_27  Model_28  Model_29  y_pred  y_true  \n",
       "0      24.0      24.0      24.0   25.70    24.0  \n",
       "1      21.6      22.6      21.6   23.73    21.6  \n",
       "2      34.7      28.7      34.7   35.02    34.7  \n",
       "3      33.4      34.9      50.0   33.90    33.4  \n",
       "4      36.2      36.2      28.7   34.28    36.2  \n",
       "\n",
       "[5 rows x 32 columns]"
      ]
     },
     "execution_count": 12,
     "metadata": {},
     "output_type": "execute_result"
    }
   ],
   "source": [
    "\n",
    "baselearner_outputs = []\n",
    "X_df = pd.DataFrame(X)\n",
    "\n",
    "predicted_op = []\n",
    "output_df = pd.DataFrame(index=X_df.index)\n",
    "output_model_list = []\n",
    "\n",
    "for i in range(0,len(list_input_data),1):\n",
    "    #Train each baselearner model w.r.t. input sampled data\n",
    "    baselearner = load(*list_of_all_models[i])\n",
    "    \n",
    "    #Column Sampling of whole data based on the columns of input sampled data\n",
    "    X_column_sampled = X_df.loc[:, list(list_input_data[i].columns)]\n",
    "    \n",
    "    #Predicting target variable w.r.t. each baselearner model\n",
    "    y_pred = baselearner.predict(X_column_sampled)\n",
    "    #print(y_pred)   \n",
    "    \n",
    "    #Store output of each baselearner w.r.t. all datapoints\n",
    "    predicted_op.append(y_pred)\n",
    "\n",
    "'''output_predicted_all_list = []\n",
    "for i in range(0, len(list_input_data),1):\n",
    "    #Create dataframe from oob index and predicted values\n",
    "    output_model = []\n",
    "    output_model = pd.DataFrame(predicted_op[i], index=list_input_data[i].index, columns=['Model_'+ str(i)])\n",
    "    output_model_list.append(output_model)\n",
    "    \n",
    "    #Join above output with main dataframe containing index of all the datapoints\n",
    "\n",
    "#as we have replicated 203 points earlier in the sample input data, dropping duplicate entries\n",
    "for each_model in output_model_list:\n",
    "    each_model = each_model.reset_index()\n",
    "    each_model = each_model.drop_duplicates(['index'])\n",
    "    each_model = each_model.set_index(['index'])\n",
    "    output_df = output_df.merge(each_model, how=\"outer\", left_index=True, right_index=True)'''\n",
    "    \n",
    "'''output_df = predicted_op   \n",
    "output_df['y_pred'] = output_df.median(axis=1, skipna=True)\n",
    "output_df['y_true'] = y\n",
    "\n",
    "output_df.head(3)'''\n",
    "\n",
    "output_ = pd.DataFrame(predicted_op)\n",
    "output_df = output_.T\n",
    "output_df.columns = model_names\n",
    "\n",
    "#output_df['y_pred'] = np.round(output_df.median(axis=1, skipna=True),2)\n",
    "output_df['y_pred'] = np.round(output_df.mean(axis=1, skipna=True),2)\n",
    "output_df['y_true'] = y\n",
    "output_df.head()"
   ]
  },
  {
   "cell_type": "code",
   "execution_count": null,
   "metadata": {
    "id": "XqxDapPk5Xaa"
   },
   "outputs": [],
   "source": []
  },
  {
   "cell_type": "markdown",
   "metadata": {
    "id": "4A0Dws92zokq"
   },
   "source": [
    "#### Compute MSE"
   ]
  },
  {
   "cell_type": "markdown",
   "metadata": {
    "id": "21j8BKfAQ1U8"
   },
   "source": [
    "<font color='orange'><b>Flowchart for calculating MSE </b></font>"
   ]
  },
  {
   "cell_type": "markdown",
   "metadata": {
    "id": "qsRigLjBzokq"
   },
   "source": [
    "After getting predicted_y for each data point, we can use sklearns mean_squared_error to calculate the MSE between predicted_y and actual_y."
   ]
  },
  {
   "cell_type": "markdown",
   "metadata": {
    "id": "8Q0mTBD2RBx_"
   },
   "source": [
    "![alt text](https://i.imgur.com/sPEE618.png)"
   ]
  },
  {
   "cell_type": "markdown",
   "metadata": {
    "id": "TnIMT7_oR312"
   },
   "source": [
    "*  <font color='blue'><b> Write code for calculating MSE</b></font>"
   ]
  },
  {
   "cell_type": "markdown",
   "metadata": {
    "id": "UgWYGKIT2Nn0"
   },
   "source": [
    "**Lets try computing MSE by formula**"
   ]
  },
  {
   "cell_type": "code",
   "execution_count": 13,
   "metadata": {
    "colab": {
     "base_uri": "https://localhost:8080/",
     "height": 218
    },
    "id": "jfA6iH5T6Uf7",
    "outputId": "b784dc1d-9c0c-426f-e856-4687dadb6181"
   },
   "outputs": [
    {
     "data": {
      "text/html": [
       "<div>\n",
       "<style scoped>\n",
       "    .dataframe tbody tr th:only-of-type {\n",
       "        vertical-align: middle;\n",
       "    }\n",
       "\n",
       "    .dataframe tbody tr th {\n",
       "        vertical-align: top;\n",
       "    }\n",
       "\n",
       "    .dataframe thead th {\n",
       "        text-align: right;\n",
       "    }\n",
       "</style>\n",
       "<table border=\"1\" class=\"dataframe\">\n",
       "  <thead>\n",
       "    <tr style=\"text-align: right;\">\n",
       "      <th></th>\n",
       "      <th>Model_0</th>\n",
       "      <th>Model_1</th>\n",
       "      <th>Model_2</th>\n",
       "      <th>Model_3</th>\n",
       "      <th>Model_4</th>\n",
       "      <th>Model_5</th>\n",
       "      <th>Model_6</th>\n",
       "      <th>Model_7</th>\n",
       "      <th>Model_8</th>\n",
       "      <th>Model_9</th>\n",
       "      <th>...</th>\n",
       "      <th>Model_22</th>\n",
       "      <th>Model_23</th>\n",
       "      <th>Model_24</th>\n",
       "      <th>Model_25</th>\n",
       "      <th>Model_26</th>\n",
       "      <th>Model_27</th>\n",
       "      <th>Model_28</th>\n",
       "      <th>Model_29</th>\n",
       "      <th>y_pred</th>\n",
       "      <th>y_true</th>\n",
       "    </tr>\n",
       "  </thead>\n",
       "  <tbody>\n",
       "    <tr>\n",
       "      <th>0</th>\n",
       "      <td>32.7</td>\n",
       "      <td>29.4</td>\n",
       "      <td>29.8</td>\n",
       "      <td>24.0</td>\n",
       "      <td>20.650000</td>\n",
       "      <td>24.0</td>\n",
       "      <td>24.0</td>\n",
       "      <td>32.7</td>\n",
       "      <td>24.0</td>\n",
       "      <td>24.0</td>\n",
       "      <td>...</td>\n",
       "      <td>24.0</td>\n",
       "      <td>24.0</td>\n",
       "      <td>24.0</td>\n",
       "      <td>18.9</td>\n",
       "      <td>24.0</td>\n",
       "      <td>24.0</td>\n",
       "      <td>24.0</td>\n",
       "      <td>24.0</td>\n",
       "      <td>24.0</td>\n",
       "      <td>24.0</td>\n",
       "    </tr>\n",
       "    <tr>\n",
       "      <th>1</th>\n",
       "      <td>39.8</td>\n",
       "      <td>21.6</td>\n",
       "      <td>21.6</td>\n",
       "      <td>21.6</td>\n",
       "      <td>33.666667</td>\n",
       "      <td>22.2</td>\n",
       "      <td>16.5</td>\n",
       "      <td>23.6</td>\n",
       "      <td>39.8</td>\n",
       "      <td>21.6</td>\n",
       "      <td>...</td>\n",
       "      <td>21.6</td>\n",
       "      <td>21.6</td>\n",
       "      <td>21.6</td>\n",
       "      <td>21.6</td>\n",
       "      <td>22.6</td>\n",
       "      <td>21.6</td>\n",
       "      <td>22.6</td>\n",
       "      <td>21.6</td>\n",
       "      <td>21.6</td>\n",
       "      <td>21.6</td>\n",
       "    </tr>\n",
       "    <tr>\n",
       "      <th>2</th>\n",
       "      <td>44.8</td>\n",
       "      <td>34.7</td>\n",
       "      <td>50.0</td>\n",
       "      <td>34.7</td>\n",
       "      <td>34.700000</td>\n",
       "      <td>34.7</td>\n",
       "      <td>31.2</td>\n",
       "      <td>34.7</td>\n",
       "      <td>34.7</td>\n",
       "      <td>34.7</td>\n",
       "      <td>...</td>\n",
       "      <td>28.7</td>\n",
       "      <td>34.7</td>\n",
       "      <td>34.7</td>\n",
       "      <td>34.7</td>\n",
       "      <td>34.7</td>\n",
       "      <td>34.7</td>\n",
       "      <td>28.7</td>\n",
       "      <td>34.7</td>\n",
       "      <td>34.7</td>\n",
       "      <td>34.7</td>\n",
       "    </tr>\n",
       "    <tr>\n",
       "      <th>3</th>\n",
       "      <td>33.4</td>\n",
       "      <td>33.4</td>\n",
       "      <td>33.4</td>\n",
       "      <td>33.4</td>\n",
       "      <td>33.400000</td>\n",
       "      <td>33.4</td>\n",
       "      <td>33.4</td>\n",
       "      <td>33.4</td>\n",
       "      <td>33.4</td>\n",
       "      <td>24.8</td>\n",
       "      <td>...</td>\n",
       "      <td>33.4</td>\n",
       "      <td>33.4</td>\n",
       "      <td>33.1</td>\n",
       "      <td>33.4</td>\n",
       "      <td>33.4</td>\n",
       "      <td>33.4</td>\n",
       "      <td>34.9</td>\n",
       "      <td>50.0</td>\n",
       "      <td>33.4</td>\n",
       "      <td>33.4</td>\n",
       "    </tr>\n",
       "    <tr>\n",
       "      <th>4</th>\n",
       "      <td>28.7</td>\n",
       "      <td>36.2</td>\n",
       "      <td>34.9</td>\n",
       "      <td>36.2</td>\n",
       "      <td>25.170000</td>\n",
       "      <td>36.2</td>\n",
       "      <td>36.2</td>\n",
       "      <td>36.2</td>\n",
       "      <td>36.2</td>\n",
       "      <td>28.7</td>\n",
       "      <td>...</td>\n",
       "      <td>36.2</td>\n",
       "      <td>33.0</td>\n",
       "      <td>36.2</td>\n",
       "      <td>36.2</td>\n",
       "      <td>33.0</td>\n",
       "      <td>36.2</td>\n",
       "      <td>36.2</td>\n",
       "      <td>28.7</td>\n",
       "      <td>36.2</td>\n",
       "      <td>36.2</td>\n",
       "    </tr>\n",
       "  </tbody>\n",
       "</table>\n",
       "<p>5 rows × 32 columns</p>\n",
       "</div>"
      ],
      "text/plain": [
       "   Model_0  Model_1  Model_2  Model_3    Model_4  Model_5  Model_6  Model_7  \\\n",
       "0     32.7     29.4     29.8     24.0  20.650000     24.0     24.0     32.7   \n",
       "1     39.8     21.6     21.6     21.6  33.666667     22.2     16.5     23.6   \n",
       "2     44.8     34.7     50.0     34.7  34.700000     34.7     31.2     34.7   \n",
       "3     33.4     33.4     33.4     33.4  33.400000     33.4     33.4     33.4   \n",
       "4     28.7     36.2     34.9     36.2  25.170000     36.2     36.2     36.2   \n",
       "\n",
       "   Model_8  Model_9  ...  Model_22  Model_23  Model_24  Model_25  Model_26  \\\n",
       "0     24.0     24.0  ...      24.0      24.0      24.0      18.9      24.0   \n",
       "1     39.8     21.6  ...      21.6      21.6      21.6      21.6      22.6   \n",
       "2     34.7     34.7  ...      28.7      34.7      34.7      34.7      34.7   \n",
       "3     33.4     24.8  ...      33.4      33.4      33.1      33.4      33.4   \n",
       "4     36.2     28.7  ...      36.2      33.0      36.2      36.2      33.0   \n",
       "\n",
       "   Model_27  Model_28  Model_29  y_pred  y_true  \n",
       "0      24.0      24.0      24.0    24.0    24.0  \n",
       "1      21.6      22.6      21.6    21.6    21.6  \n",
       "2      34.7      28.7      34.7    34.7    34.7  \n",
       "3      33.4      34.9      50.0    33.4    33.4  \n",
       "4      36.2      36.2      28.7    36.2    36.2  \n",
       "\n",
       "[5 rows x 32 columns]"
      ]
     },
     "execution_count": 13,
     "metadata": {},
     "output_type": "execute_result"
    }
   ],
   "source": [
    "output_ = pd.DataFrame(predicted_op)\n",
    "output_df = output_.T\n",
    "output_df.columns = model_names\n",
    "\n",
    "#Using Median\n",
    "output_df['y_pred'] = np.round(output_df.median(axis=1, skipna=True),2)\n",
    "\n",
    "#Using Mean\n",
    "#output_df['y_pred'] = np.round(output_df.mean(axis=1, skipna=True),2)\n",
    "\n",
    "output_df['y_true'] = y\n",
    "output_df.head()"
   ]
  },
  {
   "cell_type": "code",
   "execution_count": 14,
   "metadata": {
    "colab": {
     "base_uri": "https://localhost:8080/"
    },
    "id": "B9kmR-TjU5If",
    "outputId": "cabdddf3-a830-493b-f15a-19155e1529e7"
   },
   "outputs": [
    {
     "name": "stdout",
     "output_type": "stream",
     "text": [
      "MSE_SCORE is 0.7911166007905138\n"
     ]
    }
   ],
   "source": [
    "MSE_score = 0\n",
    "for i in range(len(output_df)):\n",
    "    err = math.pow((output_df.y_pred[i] - output_df.y_true[i]), 2)\n",
    "    MSE_score += err\n",
    "MSE_score /= len(output_df)\n",
    "print(\"MSE_SCORE is\", MSE_score)"
   ]
  },
  {
   "cell_type": "markdown",
   "metadata": {
    "id": "mMVSSt6P7jEi"
   },
   "source": [
    "**Using sklearn.metrics**"
   ]
  },
  {
   "cell_type": "code",
   "execution_count": 15,
   "metadata": {
    "colab": {
     "base_uri": "https://localhost:8080/"
    },
    "id": "Ozik-pl2zokr",
    "outputId": "1c849f48-5aa1-4dc5-cdc4-402eaeed4abe"
   },
   "outputs": [
    {
     "name": "stdout",
     "output_type": "stream",
     "text": [
      "Mean Squared Error is     : 0.7911166007905139\n"
     ]
    }
   ],
   "source": [
    "evaluate_reg(output_df.y_true, output_df.y_pred)"
   ]
  },
  {
   "cell_type": "markdown",
   "metadata": {
    "id": "RuclPDMnSz8F"
   },
   "source": [
    "<font color='blue'><b>Step - 3 </b></font>"
   ]
  },
  {
   "cell_type": "markdown",
   "metadata": {
    "id": "ESb9FSIDTM5V"
   },
   "source": [
    "<font color='orange'><b>Flowchart for calculating OOB score</b></font>"
   ]
  },
  {
   "cell_type": "markdown",
   "metadata": {
    "id": "HB-d6NMETbd9"
   },
   "source": [
    "![alt text](https://i.imgur.com/95S5Mtm.png)"
   ]
  },
  {
   "cell_type": "markdown",
   "metadata": {
    "id": "WW3GOcFzTqbt"
   },
   "source": [
    "Now calculate the $OOB Score =  \\frac{1}{506}\\sum_{i=1}^{506}(y^{i} - y^{i}_{pred})^{2}$."
   ]
  },
  {
   "cell_type": "markdown",
   "metadata": {
    "id": "zBqcS03pUYSZ"
   },
   "source": [
    "*  <font color='blue'><b> Write code for calculating OOB score </b></font>"
   ]
  },
  {
   "cell_type": "code",
   "execution_count": 16,
   "metadata": {
    "colab": {
     "base_uri": "https://localhost:8080/",
     "height": 218
    },
    "id": "Fog_6DNdS-h_",
    "outputId": "81d46962-579c-446b-c100-ebe05f191070"
   },
   "outputs": [
    {
     "data": {
      "text/html": [
       "<div>\n",
       "<style scoped>\n",
       "    .dataframe tbody tr th:only-of-type {\n",
       "        vertical-align: middle;\n",
       "    }\n",
       "\n",
       "    .dataframe tbody tr th {\n",
       "        vertical-align: top;\n",
       "    }\n",
       "\n",
       "    .dataframe thead th {\n",
       "        text-align: right;\n",
       "    }\n",
       "</style>\n",
       "<table border=\"1\" class=\"dataframe\">\n",
       "  <thead>\n",
       "    <tr style=\"text-align: right;\">\n",
       "      <th></th>\n",
       "      <th>Model_0</th>\n",
       "      <th>Model_1</th>\n",
       "      <th>Model_2</th>\n",
       "      <th>Model_3</th>\n",
       "      <th>Model_4</th>\n",
       "      <th>Model_5</th>\n",
       "      <th>Model_6</th>\n",
       "      <th>Model_7</th>\n",
       "      <th>Model_8</th>\n",
       "      <th>Model_9</th>\n",
       "      <th>...</th>\n",
       "      <th>Model_22</th>\n",
       "      <th>Model_23</th>\n",
       "      <th>Model_24</th>\n",
       "      <th>Model_25</th>\n",
       "      <th>Model_26</th>\n",
       "      <th>Model_27</th>\n",
       "      <th>Model_28</th>\n",
       "      <th>Model_29</th>\n",
       "      <th>y_true</th>\n",
       "      <th>y_pred</th>\n",
       "    </tr>\n",
       "  </thead>\n",
       "  <tbody>\n",
       "    <tr>\n",
       "      <th>0</th>\n",
       "      <td>NaN</td>\n",
       "      <td>NaN</td>\n",
       "      <td>29.4</td>\n",
       "      <td>29.8</td>\n",
       "      <td>NaN</td>\n",
       "      <td>NaN</td>\n",
       "      <td>NaN</td>\n",
       "      <td>NaN</td>\n",
       "      <td>23.5</td>\n",
       "      <td>38.7</td>\n",
       "      <td>...</td>\n",
       "      <td>NaN</td>\n",
       "      <td>NaN</td>\n",
       "      <td>NaN</td>\n",
       "      <td>30.5</td>\n",
       "      <td>NaN</td>\n",
       "      <td>NaN</td>\n",
       "      <td>NaN</td>\n",
       "      <td>NaN</td>\n",
       "      <td>24.0</td>\n",
       "      <td>28.90</td>\n",
       "    </tr>\n",
       "    <tr>\n",
       "      <th>1</th>\n",
       "      <td>21.6</td>\n",
       "      <td>NaN</td>\n",
       "      <td>NaN</td>\n",
       "      <td>20.6</td>\n",
       "      <td>NaN</td>\n",
       "      <td>NaN</td>\n",
       "      <td>22.9</td>\n",
       "      <td>NaN</td>\n",
       "      <td>NaN</td>\n",
       "      <td>NaN</td>\n",
       "      <td>...</td>\n",
       "      <td>NaN</td>\n",
       "      <td>NaN</td>\n",
       "      <td>NaN</td>\n",
       "      <td>NaN</td>\n",
       "      <td>NaN</td>\n",
       "      <td>NaN</td>\n",
       "      <td>NaN</td>\n",
       "      <td>18.7</td>\n",
       "      <td>21.6</td>\n",
       "      <td>21.60</td>\n",
       "    </tr>\n",
       "    <tr>\n",
       "      <th>2</th>\n",
       "      <td>NaN</td>\n",
       "      <td>NaN</td>\n",
       "      <td>NaN</td>\n",
       "      <td>NaN</td>\n",
       "      <td>NaN</td>\n",
       "      <td>21.6</td>\n",
       "      <td>NaN</td>\n",
       "      <td>NaN</td>\n",
       "      <td>NaN</td>\n",
       "      <td>43.8</td>\n",
       "      <td>...</td>\n",
       "      <td>NaN</td>\n",
       "      <td>NaN</td>\n",
       "      <td>NaN</td>\n",
       "      <td>33.1</td>\n",
       "      <td>NaN</td>\n",
       "      <td>21.6</td>\n",
       "      <td>NaN</td>\n",
       "      <td>35.4</td>\n",
       "      <td>34.7</td>\n",
       "      <td>33.10</td>\n",
       "    </tr>\n",
       "    <tr>\n",
       "      <th>3</th>\n",
       "      <td>NaN</td>\n",
       "      <td>36.1</td>\n",
       "      <td>NaN</td>\n",
       "      <td>NaN</td>\n",
       "      <td>NaN</td>\n",
       "      <td>NaN</td>\n",
       "      <td>NaN</td>\n",
       "      <td>NaN</td>\n",
       "      <td>NaN</td>\n",
       "      <td>43.8</td>\n",
       "      <td>...</td>\n",
       "      <td>19.6</td>\n",
       "      <td>NaN</td>\n",
       "      <td>32.0</td>\n",
       "      <td>37.3</td>\n",
       "      <td>30.1</td>\n",
       "      <td>23.9</td>\n",
       "      <td>NaN</td>\n",
       "      <td>46.0</td>\n",
       "      <td>33.4</td>\n",
       "      <td>34.75</td>\n",
       "    </tr>\n",
       "    <tr>\n",
       "      <th>4</th>\n",
       "      <td>28.7</td>\n",
       "      <td>28.4</td>\n",
       "      <td>NaN</td>\n",
       "      <td>NaN</td>\n",
       "      <td>37.3</td>\n",
       "      <td>NaN</td>\n",
       "      <td>NaN</td>\n",
       "      <td>NaN</td>\n",
       "      <td>NaN</td>\n",
       "      <td>NaN</td>\n",
       "      <td>...</td>\n",
       "      <td>26.6</td>\n",
       "      <td>33.4</td>\n",
       "      <td>NaN</td>\n",
       "      <td>NaN</td>\n",
       "      <td>34.7</td>\n",
       "      <td>21.8</td>\n",
       "      <td>NaN</td>\n",
       "      <td>NaN</td>\n",
       "      <td>36.2</td>\n",
       "      <td>33.40</td>\n",
       "    </tr>\n",
       "  </tbody>\n",
       "</table>\n",
       "<p>5 rows × 32 columns</p>\n",
       "</div>"
      ],
      "text/plain": [
       "   Model_0  Model_1  Model_2  Model_3  Model_4  Model_5  Model_6  Model_7  \\\n",
       "0      NaN      NaN     29.4     29.8      NaN      NaN      NaN      NaN   \n",
       "1     21.6      NaN      NaN     20.6      NaN      NaN     22.9      NaN   \n",
       "2      NaN      NaN      NaN      NaN      NaN     21.6      NaN      NaN   \n",
       "3      NaN     36.1      NaN      NaN      NaN      NaN      NaN      NaN   \n",
       "4     28.7     28.4      NaN      NaN     37.3      NaN      NaN      NaN   \n",
       "\n",
       "   Model_8  Model_9  ...  Model_22  Model_23  Model_24  Model_25  Model_26  \\\n",
       "0     23.5     38.7  ...       NaN       NaN       NaN      30.5       NaN   \n",
       "1      NaN      NaN  ...       NaN       NaN       NaN       NaN       NaN   \n",
       "2      NaN     43.8  ...       NaN       NaN       NaN      33.1       NaN   \n",
       "3      NaN     43.8  ...      19.6       NaN      32.0      37.3      30.1   \n",
       "4      NaN      NaN  ...      26.6      33.4       NaN       NaN      34.7   \n",
       "\n",
       "   Model_27  Model_28  Model_29  y_true  y_pred  \n",
       "0       NaN       NaN       NaN    24.0   28.90  \n",
       "1       NaN       NaN      18.7    21.6   21.60  \n",
       "2      21.6       NaN      35.4    34.7   33.10  \n",
       "3      23.9       NaN      46.0    33.4   34.75  \n",
       "4      21.8       NaN       NaN    36.2   33.40  \n",
       "\n",
       "[5 rows x 32 columns]"
      ]
     },
     "execution_count": 16,
     "metadata": {},
     "output_type": "execute_result"
    }
   ],
   "source": [
    "#creating DataFrames from the loaded data\n",
    "X = pd.DataFrame(boston.data)\n",
    "y = pd.DataFrame(boston.target)\n",
    "\n",
    "#Attaching target variable to the dataset before row and column sampling\n",
    "Data = X\n",
    "Data['Target'] = y\n",
    "\n",
    "#Creating empty list to store the iteration results\n",
    "oob_predicted_list = []\n",
    "oob_index_list = []\n",
    "baselearner_oob_op = []\n",
    "base_learner_prediction_all = []\n",
    "base_learner_mse = []\n",
    "base_learner_oob_score = []\n",
    "oob_df = pd.DataFrame(index=X_df.index)\n",
    "\n",
    "for i in range (0, len(list_input_data),1):\n",
    "    \n",
    "    X1 = Data.sample(n=303, weights='Target', replace=False, axis=0, random_state= None)\n",
    "    X2 = X1.sample(n = 203, weights='Target', replace=False, axis=0, random_state=None)\n",
    "    X_sample = pd.concat([X1, X2], copy=True)\n",
    "    \n",
    "\n",
    "    # ROW and COLUMN sampling\n",
    "    randomlist = []\n",
    "    i = random.randint(4,12)\n",
    "    for i in range (0, i):\n",
    "        n = random.randint(3,12)\n",
    "        randomlist.append(n)\n",
    "    list(set(randomlist))\n",
    "    \n",
    "    #Training Dataset, (column sampling)\n",
    "    XY_sample = X_sample.iloc[:, list(set([*randomlist, 13]))]\n",
    "\n",
    "    #Splitting data into data and target variable\n",
    "    sampled_data = XY_sample.drop('Target', axis=1)\n",
    "    sampled_target = XY_sample[['Target']]\n",
    "    \n",
    "    \n",
    "    # for OOB points\n",
    "    a = list(X1.index)\n",
    "    b = list(Data.index)\n",
    "\n",
    "    #selecting oob points i.e. Test dataset\n",
    "    oob_index = list(set(b) - set(a))\n",
    "    oob_index_list.append(oob_index)\n",
    "    oob_points = Data.iloc[oob_index, :]\n",
    "    \n",
    "    #Column Sampling w.r.t. base learner\n",
    "    oob_sample = oob_points.iloc[:, list(set([*randomlist, 13]))] \n",
    "\n",
    "    #spliting data into X and Y\n",
    "    oob_data = oob_sample.drop('Target', axis=1)\n",
    "    oob_target = oob_sample[['Target']]\n",
    "\n",
    "    #Fitting the data in DecisionTreeRegression model.\n",
    "    dt_reg = DecisionTreeRegressor()\n",
    "    dt_reg.fit(sampled_data, sampled_target)\n",
    "\n",
    "    #Predicting target variables of oob datapoints.\n",
    "    oob_predicted = dt_reg.predict(oob_data)\n",
    "    oob_predicted_list.append(oob_predicted)\n",
    "\n",
    "oob_predicted_all_list = []\n",
    "for i in range (0, len(list_input_data),1):\n",
    "    #Create dataframe from oob index and predicted values\n",
    "    oob_model_output = []\n",
    "    oob_model_output = pd.DataFrame(oob_predicted_list[i], index=oob_index_list[i], columns=['Model_'+ str(i)])\n",
    "    oob_predicted_all_list.append(oob_model_output)\n",
    "    #Join above output with main dataframe containing index of all the datapoints\n",
    "\n",
    "for each_output in oob_predicted_all_list:\n",
    "    oob_df = oob_df.merge(each_output, how=\"outer\", left_index=True, right_index=True)\n",
    "\n",
    "oob_df['y_true'] = y\n",
    "oob_df['y_pred'] = oob_df.median(axis=1, skipna=True)\n",
    "oob_df.head()"
   ]
  },
  {
   "cell_type": "markdown",
   "metadata": {
    "id": "ZNA_vcc8zoku"
   },
   "source": [
    "**OOB SCORE:**"
   ]
  },
  {
   "cell_type": "code",
   "execution_count": 17,
   "metadata": {
    "colab": {
     "base_uri": "https://localhost:8080/"
    },
    "id": "VT68-zq3zokv",
    "outputId": "8c847ae6-f1fb-4262-e41a-636d6caf48b6"
   },
   "outputs": [
    {
     "name": "stdout",
     "output_type": "stream",
     "text": [
      "OOB_SCORE is 10.23848383956815\n"
     ]
    }
   ],
   "source": [
    "oob_score = 0\n",
    "for i in range(len(oob_df)):\n",
    "    err = math.pow((oob_df.y_pred[i] - oob_df.y_true[i]), 2)\n",
    "    oob_score += err\n",
    "oob_score /= len(oob_df)\n",
    "print(\"OOB_SCORE is\", oob_score)"
   ]
  },
  {
   "cell_type": "markdown",
   "metadata": {
    "id": "sbuiwX3OUjUI"
   },
   "source": [
    "# <font color='blue'><b>Task 2</b></font>"
   ]
  },
  {
   "cell_type": "markdown",
   "metadata": {
    "id": "oXlO7sdizokw"
   },
   "source": [
    "**Let's Create Required Functions**"
   ]
  },
  {
   "cell_type": "code",
   "execution_count": 18,
   "metadata": {
    "id": "4-Kzko3Zzokx"
   },
   "outputs": [],
   "source": [
    "def random_forest(input_data, target_data, baselearners = 30):\n",
    "    \n",
    "    #creating DataFrames from the loaded data\n",
    "    X = pd.DataFrame(input_data)\n",
    "    y = pd.DataFrame(target_data)\n",
    "    \n",
    "    X_df = pd.DataFrame(X)\n",
    "    #Attaching target variable to the dataset before row and column sampling\n",
    "    Data = X\n",
    "    Data['Target'] = y\n",
    "\n",
    "    #Creating empty list to store the iteration results\n",
    "    oob_predicted_list = []\n",
    "    oob_index_list = []\n",
    "    predicted_op = []\n",
    "\n",
    "    list_input_data = []\n",
    "    list_output_data = []\n",
    "\n",
    "    output_model_list = []\n",
    "    list_oob_data = []\n",
    "    list_oob_target = []\n",
    "\n",
    "    output_df = pd.DataFrame(index=X_df.index)\n",
    "    oob_df = pd.DataFrame(index=X_df.index)\n",
    "\n",
    "    #1.Creating input samples\n",
    "    for i in range (0, 30,1):\n",
    "\n",
    "        X1 = Data.sample(n=303, weights='Target', replace=False, axis=0, random_state= None)\n",
    "        X2 = X1.sample(n = 203, weights='Target', replace=False, axis=0, random_state=None)\n",
    "        X_sample = pd.concat([X1, X2], copy=True)\n",
    "\n",
    "\n",
    "        # ROW and COLUMN sampling\n",
    "        randomlist = []\n",
    "        i = random.randint(4,12)\n",
    "        for i in range (0, i):\n",
    "            n = random.randint(3,12)\n",
    "            randomlist.append(n)\n",
    "        list(set(randomlist))\n",
    "\n",
    "        #Training Dataset, (column sampling)\n",
    "        XY_sample = X_sample.iloc[:, list(set([*randomlist, 13]))]\n",
    "\n",
    "        #Splitting data into data and target variable\n",
    "        sampled_data = XY_sample.drop('Target', axis=1)\n",
    "        sampled_target = XY_sample[['Target']]\n",
    "\n",
    "        list_input_data.append(sampled_data)\n",
    "        list_output_data.append(sampled_target)\n",
    "\n",
    "    #2.Training Baselearners\n",
    "\n",
    "    from joblib import dump, load\n",
    "\n",
    "    model_names_joblib = []\n",
    "    model_names = []\n",
    "    list_of_all_models = []\n",
    "    for i in range(0,len(list_input_data),1):\n",
    "        #print(\"model {}\".format(i))\n",
    "        joblib_ = str(\"Model_\") + str(i) + str(\".joblib\")\n",
    "        model_ = str(\"Model_\") + str(i)\n",
    "        model_names_joblib.append(joblib_)\n",
    "        list_of_all_models.append(model_)\n",
    "    #print(model_names_joblib)\n",
    "    #print(model_names)\n",
    "\n",
    "    for i in range(0,len(list_input_data),1):\n",
    "        model = dt_reg.fit(list_input_data[i], list_output_data[i])\n",
    "        list_of_all_models[i] = dump(model, model_names_joblib[i])\n",
    "\n",
    "    #3. Predicting y with baseleaners\n",
    "    baselearner_outputs = []\n",
    "    X_df = pd.DataFrame(X)\n",
    "\n",
    "    predicted_op = []\n",
    "    output_df = pd.DataFrame(index=X_df.index)\n",
    "    output_model_list = []\n",
    "\n",
    "    for i in range(0,len(list_input_data),1):\n",
    "        #Train each baselearner model w.r.t. input sampled data\n",
    "        baselearner = load(*list_of_all_models[i])\n",
    "\n",
    "        #Column Sampling of whole data based on the columns of input sampled data\n",
    "        X_column_sampled = X_df.loc[:, list(list_input_data[i].columns)]\n",
    "\n",
    "        #Predicting target variable w.r.t. each baselearner model\n",
    "        y_pred = baselearner.predict(X_column_sampled)\n",
    "        #print(y_pred)   \n",
    "\n",
    "        #Store output of each baselearner w.r.t. all datapoints\n",
    "        predicted_op.append(y_pred)\n",
    "\n",
    "    '''output_predicted_all_list = []\n",
    "    for i in range(0, len(list_input_data),1):\n",
    "        #Create dataframe from oob index and predicted values\n",
    "        output_model = []\n",
    "        output_model = pd.DataFrame(predicted_op[i], index=list_input_data[i].index, columns=['Model_'+ str(i)])\n",
    "        output_model_list.append(output_model)\n",
    "\n",
    "        #Join above output with main dataframe containing index of all the datapoints\n",
    "\n",
    "    #as we have replicated 203 points earlier in the sample input data, dropping duplicate entries\n",
    "    for each_model in output_model_list:\n",
    "        each_model = each_model.reset_index()\n",
    "        each_model = each_model.drop_duplicates(['index'])\n",
    "        each_model = each_model.set_index(['index'])\n",
    "        output_df = output_df.merge(each_model, how=\"outer\", left_index=True, right_index=True)\n",
    "\n",
    "\n",
    "    output_df['y_pred'] = output_df.median(axis=1, skipna=True)\n",
    "    output_df['y_true'] = y'''\n",
    "    output_ = pd.DataFrame(predicted_op)\n",
    "    output_df = output_.T\n",
    "    #output_df.columns = model_names\n",
    "\n",
    "    #Using Median\n",
    "    output_df['y_pred'] = np.round(output_df.median(axis=1, skipna=True),2)\n",
    "    #Using Mean\n",
    "    #output_df['y_pred'] = np.round(output_df.mean(axis=1, skipna=True),2)\n",
    "    output_df['y_true'] = y\n",
    "    output_df.head()\n",
    "\n",
    "    #4. Computing OOB Points\n",
    "    for i in range(0,len(list_input_data),1):\n",
    "        # for OOB points\n",
    "        a = list(list_input_data[i].index)\n",
    "        b = list(Data.index)\n",
    "\n",
    "        #selecting oob points i.e. Test dataset\n",
    "        oob_index = list(set(b) - set(a))\n",
    "        oob_index_list.append(oob_index)\n",
    "        oob_points = Data.iloc[oob_index, :]\n",
    "\n",
    "        #Column Sampling w.r.t. base learner\n",
    "        oob_sample = oob_points.iloc[:, list(list_input_data[i].columns)+[13]]\n",
    "\n",
    "        #spliting data into X and Y\n",
    "        oob_data = oob_sample.drop('Target', axis=1)\n",
    "        oob_target = oob_sample[['Target']]\n",
    "\n",
    "        list_oob_data.append(sampled_data)\n",
    "        list_oob_target.append(sampled_target)\n",
    "\n",
    "\n",
    "        #Predicting target variables of oob datapoints.\n",
    "        baselearner = load(*list_of_all_models[i])\n",
    "        oob_predicted = np.round(baselearner.predict(oob_data),2)\n",
    "        oob_predicted_list.append(oob_predicted)\n",
    "\n",
    "    oob_predicted_all_list = []\n",
    "    for i in range (0, len(list_input_data),1):\n",
    "        #Create dataframe from oob index and predicted values\n",
    "        oob_model_output = []\n",
    "        oob_model_output = pd.DataFrame(oob_predicted_list[i], index=oob_index_list[i], columns=['Model_'+ str(i)])\n",
    "        oob_predicted_all_list.append(oob_model_output)\n",
    "        #Join above output with main dataframe containing index of all the datapoints\n",
    "\n",
    "    for each_output in oob_predicted_all_list:\n",
    "        oob_df = oob_df.merge(each_output, how=\"outer\", left_index=True, right_index=True)\n",
    "\n",
    "    oob_df['y_true'] = y\n",
    "    oob_df['y_pred'] = oob_df.median(axis=1, skipna=True)\n",
    "    #print(oob_df.head())\n",
    "    \n",
    "    return oob_df, output_df"
   ]
  },
  {
   "cell_type": "code",
   "execution_count": 19,
   "metadata": {
    "id": "-qJOL2T7zoky"
   },
   "outputs": [],
   "source": [
    "def compute_obb_score(oob_df):\n",
    "    oob_score = 0\n",
    "    for i in range(len(oob_df)):\n",
    "        err = math.pow((oob_df.y_pred[i] - oob_df.y_true[i]), 2)\n",
    "        oob_score += err\n",
    "    oob_score /= len(oob_df)\n",
    "    return oob_score"
   ]
  },
  {
   "cell_type": "code",
   "execution_count": 20,
   "metadata": {
    "id": "S4kViUrvzoky"
   },
   "outputs": [],
   "source": [
    "def compute_MSE(output):\n",
    "    MSE = metrics.mean_squared_error(output.y_true, output.y_pred)\n",
    "    return MSE"
   ]
  },
  {
   "cell_type": "markdown",
   "metadata": {
    "id": "Hd9loIODzoky"
   },
   "source": [
    "*  <font color='blue'><b>Computing CI of OOB Score and Train MSE</b></font>\n",
    "  *   Repeat Task 1 for 35 times, and for each iteration store the Train MSE and OOB score </li>\n",
    "<li> After this we will have 35 Train MSE values and 35 OOB scores </li>\n",
    "<li> using these 35 values (assume like a sample) find the confidence intravels of MSE and OOB Score </li>\n",
    "<li> you need to report CI of MSE and CI of OOB Score </li>\n",
    "<li> Note: Refer the Central_Limit_theorem.ipynb to check how to find the confidence intravel</li>\n",
    "</ol>"
   ]
  },
  {
   "cell_type": "code",
   "execution_count": 21,
   "metadata": {
    "id": "ZNfXdPCbzoky"
   },
   "outputs": [],
   "source": [
    "input_data = boston.data\n",
    "target_data = boston.target"
   ]
  },
  {
   "cell_type": "code",
   "execution_count": 22,
   "metadata": {
    "colab": {
     "base_uri": "https://localhost:8080/"
    },
    "id": "2Hlipz4Zzokz",
    "outputId": "cbda18c1-efae-4c67-f9be-21f1a744b874"
   },
   "outputs": [
    {
     "name": "stderr",
     "output_type": "stream",
     "text": [
      "100%|██████████| 35/35 [01:12<00:00,  2.07s/it]\n"
     ]
    }
   ],
   "source": [
    "MSE = []\n",
    "OOB_SCORE = []\n",
    "\n",
    "for i in tqdm(range(0,35,1)):\n",
    "    oob_df, output_df = random_forest(input_data, target_data, baselearners = 30)\n",
    "    mse = compute_MSE(output_df)\n",
    "    MSE.append(mse)\n",
    "    oob_score = compute_obb_score(oob_df)\n",
    "    OOB_SCORE.append(oob_score)"
   ]
  },
  {
   "cell_type": "code",
   "execution_count": 23,
   "metadata": {
    "colab": {
     "base_uri": "https://localhost:8080/",
     "height": 357
    },
    "id": "gVxlmd1Mzokz",
    "outputId": "69f83ed0-187d-47cd-d745-b09d23a5405b"
   },
   "outputs": [
    {
     "name": "stdout",
     "output_type": "stream",
     "text": [
      "95.0 confidence interval of MSE 0.6 and 0.7\n",
      "95.0 confidence interval of OOB Score 9.9 and 10.9\n",
      "------------------------------------------------------------------\n"
     ]
    },
    {
     "data": {
      "image/png": "[encoded data removed]",
      "text/plain": [
       "<Figure size 1152x288 with 2 Axes>"
      ]
     },
     "metadata": {
      "needs_background": "light"
     },
     "output_type": "display_data"
    }
   ],
   "source": [
    "#Computing Confidence Interval\n",
    "mse_CI = np.array(MSE)\n",
    "oob_CI = np.array(OOB_SCORE)\n",
    "n_iteration = 1000\n",
    "\n",
    "\n",
    "#Plotting \n",
    "import matplotlib.pyplot as plt\n",
    "from sklearn.utils import resample\n",
    "\n",
    "plt.figure(figsize=(16,4))\n",
    "\n",
    "plt.subplot(121)\n",
    "mse_mean = []\n",
    "n_size = int(len(mse_CI))\n",
    "for i in range(n_iteration):\n",
    "    s = resample(mse_CI, n_samples= n_size)\n",
    "    m = np.mean(s)\n",
    "    mse_mean.append(m)\n",
    "plt.hist(mse_mean, color='y', alpha = 0.3)\n",
    "plt.title(\"MSE Histogram \")\n",
    "plt.xlabel(\"MSE\")\n",
    "plt.xkcd(scale=0.8)\n",
    "\n",
    "alpha = 0.95\n",
    "p_lower = ((1 - alpha)/2)*100\n",
    "lower = np.percentile(mse_mean, p_lower)\n",
    "p_upper = (alpha+((1.0-alpha)/2.0)) * 100\n",
    "upper = np.percentile(mse_mean, p_upper)\n",
    "\n",
    "print('%.1f confidence interval of MSE %.1f and %.1f' % (alpha*100, lower, upper))\n",
    "\n",
    "plt.subplot(122)\n",
    "\n",
    "oob_mean = []\n",
    "n_size = int(len(oob_CI))\n",
    "for i in range(n_iteration):\n",
    "    s = resample(oob_CI, n_samples= n_size)\n",
    "    m = np.mean(s)\n",
    "    oob_mean.append(m)\n",
    "plt.hist(oob_mean, color='g', alpha = 0.3)\n",
    "plt.title(\"OOB Histogram \")\n",
    "plt.xlabel(\"OOB Score\")\n",
    "plt.xkcd(scale=0.8)\n",
    "\n",
    "alpha = 0.95\n",
    "p_lower = ((1 - alpha)/2)*100\n",
    "lower = np.percentile(oob_mean, p_lower)\n",
    "p_upper = (alpha+((1.0-alpha)/2.0)) * 100\n",
    "upper = np.percentile(oob_mean, p_upper)\n",
    "\n",
    "print('%.1f confidence interval of OOB Score %.1f and %.1f' % (alpha*100, lower, upper))\n",
    "print(\"-\"*66)\n"
   ]
  },
  {
   "cell_type": "markdown",
   "metadata": {
    "id": "ur9lxZrRzokz"
   },
   "source": [
    "# <font color='red'><b>Task 3</b></font>"
   ]
  },
  {
   "cell_type": "markdown",
   "metadata": {
    "id": "KqJ-cZa-zok0"
   },
   "source": [
    "*  <font color='blue'><b>Given a single query point predict the price of house.</b></font>"
   ]
  },
  {
   "cell_type": "markdown",
   "metadata": {
    "id": "eXxrvZqHV1Fr"
   },
   "source": [
    "<font color='orange'><b>Flowchart for Task 3</b></font>"
   ]
  },
  {
   "cell_type": "markdown",
   "metadata": {
    "id": "NyjwEJ62V6a6"
   },
   "source": [
    "<b>Hint: </b> We created 30 models by using 30 samples in TASK-1. Here, we need send query point \"xq\"  to 30 models and perform the regression on the output generated by 30 models."
   ]
  },
  {
   "cell_type": "markdown",
   "metadata": {
    "id": "0emSwLL7VurD"
   },
   "source": [
    "![alt text](https://i.imgur.com/Y5cNhQk.png)"
   ]
  },
  {
   "cell_type": "markdown",
   "metadata": {
    "id": "29hjwKlWWDfo"
   },
   "source": [
    "*  <font color='blue'><b> Write code for TASK 3 </b></font>"
   ]
  },
  {
   "cell_type": "markdown",
   "metadata": {
    "id": "s-yclF3jzok1"
   },
   "source": [
    "**Given Query Point:**"
   ]
  },
  {
   "cell_type": "code",
   "execution_count": 24,
   "metadata": {
    "id": "i_pUlSD-VYD1"
   },
   "outputs": [],
   "source": [
    "xq= [0.18,20.0,5.00,0.0,0.421,5.60,72.2,7.95,7.0,30.0,19.1,372.13,18.60]"
   ]
  },
  {
   "cell_type": "markdown",
   "metadata": {
    "id": "JFNg-vFlzok1"
   },
   "source": [
    "**Formatting Given Query Point into Required Format i.e. List of Dataframe**"
   ]
  },
  {
   "cell_type": "code",
   "execution_count": 25,
   "metadata": {
    "colab": {
     "base_uri": "https://localhost:8080/",
     "height": 78
    },
    "id": "Q8TYt8ylzok1",
    "outputId": "a4f577a3-669b-4fae-aa6a-0845c5cc7cb3"
   },
   "outputs": [
    {
     "data": {
      "text/html": [
       "<div>\n",
       "<style scoped>\n",
       "    .dataframe tbody tr th:only-of-type {\n",
       "        vertical-align: middle;\n",
       "    }\n",
       "\n",
       "    .dataframe tbody tr th {\n",
       "        vertical-align: top;\n",
       "    }\n",
       "\n",
       "    .dataframe thead th {\n",
       "        text-align: right;\n",
       "    }\n",
       "</style>\n",
       "<table border=\"1\" class=\"dataframe\">\n",
       "  <thead>\n",
       "    <tr style=\"text-align: right;\">\n",
       "      <th></th>\n",
       "      <th>0</th>\n",
       "      <th>1</th>\n",
       "      <th>2</th>\n",
       "      <th>3</th>\n",
       "      <th>4</th>\n",
       "      <th>5</th>\n",
       "      <th>6</th>\n",
       "      <th>7</th>\n",
       "      <th>8</th>\n",
       "      <th>9</th>\n",
       "      <th>10</th>\n",
       "      <th>11</th>\n",
       "      <th>12</th>\n",
       "    </tr>\n",
       "  </thead>\n",
       "  <tbody>\n",
       "    <tr>\n",
       "      <th>0</th>\n",
       "      <td>0.18</td>\n",
       "      <td>20.0</td>\n",
       "      <td>5.0</td>\n",
       "      <td>0.0</td>\n",
       "      <td>0.421</td>\n",
       "      <td>5.6</td>\n",
       "      <td>72.2</td>\n",
       "      <td>7.95</td>\n",
       "      <td>7.0</td>\n",
       "      <td>30.0</td>\n",
       "      <td>19.1</td>\n",
       "      <td>372.13</td>\n",
       "      <td>18.6</td>\n",
       "    </tr>\n",
       "  </tbody>\n",
       "</table>\n",
       "</div>"
      ],
      "text/plain": [
       "     0     1    2    3      4    5     6     7    8     9     10      11    12\n",
       "0  0.18  20.0  5.0  0.0  0.421  5.6  72.2  7.95  7.0  30.0  19.1  372.13  18.6"
      ]
     },
     "execution_count": 25,
     "metadata": {},
     "output_type": "execute_result"
    }
   ],
   "source": [
    "list_query_data = []\n",
    "xq_df = pd.DataFrame(xq).T\n",
    "list_query_data.append(xq_df)\n",
    "list_query_data[0]"
   ]
  },
  {
   "cell_type": "markdown",
   "metadata": {
    "id": "b-z86xkMzok2"
   },
   "source": [
    "**Training Base Learners**"
   ]
  },
  {
   "cell_type": "code",
   "execution_count": 26,
   "metadata": {
    "id": "DJsVpYxAzok2"
   },
   "outputs": [],
   "source": [
    "#Training Base Models\n",
    "from joblib import dump, load\n",
    "\n",
    "model_names_joblib = []\n",
    "model_names = []\n",
    "list_of_all_models = []\n",
    "for i in range(0,len(list_input_data),1):\n",
    "    #print(\"model {}\".format(i))\n",
    "    joblib_ = str(\"Model_\") + str(i) + str(\".joblib\")\n",
    "    model_ = str(\"Model_\") + str(i)\n",
    "    model_names_joblib.append(joblib_)\n",
    "    list_of_all_models.append(model_)\n",
    "#print(model_names_joblib)\n",
    "#print(model_names)\n",
    "\n",
    "for i in range(0,len(list_input_data),1):\n",
    "    model = dt_reg.fit(list_input_data[i], list_output_data[i])\n",
    "    list_of_all_models[i] = dump(model, model_names_joblib[i])\n",
    "\n",
    "#list_of_all_models"
   ]
  },
  {
   "cell_type": "markdown",
   "metadata": {
    "id": "RtJ3U_2szok2"
   },
   "source": [
    "**Feeding Data to each base model and predicting the output**"
   ]
  },
  {
   "cell_type": "code",
   "execution_count": 27,
   "metadata": {
    "colab": {
     "base_uri": "https://localhost:8080/"
    },
    "id": "hpMfrwJ6zok2",
    "outputId": "2adaa041-c4ea-40d1-82a1-e3982456b4a6"
   },
   "outputs": [
    {
     "name": "stderr",
     "output_type": "stream",
     "text": [
      "100%|██████████| 30/30 [00:01<00:00, 27.34it/s]\n"
     ]
    }
   ],
   "source": [
    "predicted_yq = []\n",
    "for i in tqdm(range(0,30,1)):\n",
    "    #Train each baselearner model w.r.t. input sampled data\n",
    "    baselearner = load(*list_of_all_models[i])\n",
    "\n",
    "    #Column Sampling of whole data based on the columns of input sampled data\n",
    "    Xq_column_sampled = list_query_data[0].loc[:, list(list_input_data[i].columns)]\n",
    "\n",
    "    #Predicting target variable w.r.t. each baselearner model\n",
    "    yq_pred = baselearner.predict(Xq_column_sampled)\n",
    "    #print(y_pred)   \n",
    "\n",
    "    #Store output of each baselearner w.r.t. all datapoints\n",
    "    predicted_yq.append(*list(yq_pred))"
   ]
  },
  {
   "cell_type": "code",
   "execution_count": 28,
   "metadata": {
    "colab": {
     "base_uri": "https://localhost:8080/"
    },
    "id": "qmjSQVAnzok3",
    "outputId": "719fd537-a7b5-4751-ae54-543446316b53"
   },
   "outputs": [
    {
     "name": "stdout",
     "output_type": "stream",
     "text": [
      "The House Price is: 18.950000000000003\n"
     ]
    }
   ],
   "source": [
    "from statistics import median\n",
    "house_price = median(predicted_yq)\n",
    "print(\"The House Price is:\", house_price)"
   ]
  },
  {
   "cell_type": "markdown",
   "metadata": {
    "id": "IOdUi-0xWOJ9"
   },
   "source": [
    "<font color='red'><b>Write observations for task 1, task 2, task 3 indetail</b></font>"
   ]
  },
  {
   "cell_type": "markdown",
   "metadata": {
    "id": "YyY-pjJEzok3"
   },
   "source": [
    "#### TASK 01 OBSERVATIONS: \n",
    "- In this task, we have performed row and column sampling to create number of sampled datasets from the given dataset and part of the dataset is reserved for testing i.e. OOB points.\n",
    "- We have feeded all these sample to train base models and predicted the target values of oob points.\n",
    "- From the predicted values, computed MSE for input sampled datapoints and OOB_SCORE for oob points."
   ]
  },
  {
   "cell_type": "markdown",
   "metadata": {
    "id": "p6THZN5gzok3"
   },
   "source": [
    "#### TASK 02 OBSERVATIONS: \n",
    "- In the task two, we have sampled 303 points and rest of the points (OOB) are considered as a test data. If we compare oob_df and output_df, It is clear that all the missing values i.e. NaN indicated that the particular data point has not beed feeded to that respective model.\n",
    "- 95.0 confidence interval of MSE 0.6 and 0.7\n",
    "- 95.0 confidence interval of OOB Score 9.7 and 10.6"
   ]
  },
  {
   "cell_type": "code",
   "execution_count": 29,
   "metadata": {
    "colab": {
     "base_uri": "https://localhost:8080/",
     "height": 218
    },
    "id": "9EX5jCF7zok4",
    "outputId": "e4ae549c-6d98-4b77-f709-f84e06219a48"
   },
   "outputs": [
    {
     "data": {
      "text/html": [
       "<div>\n",
       "<style scoped>\n",
       "    .dataframe tbody tr th:only-of-type {\n",
       "        vertical-align: middle;\n",
       "    }\n",
       "\n",
       "    .dataframe tbody tr th {\n",
       "        vertical-align: top;\n",
       "    }\n",
       "\n",
       "    .dataframe thead th {\n",
       "        text-align: right;\n",
       "    }\n",
       "</style>\n",
       "<table border=\"1\" class=\"dataframe\">\n",
       "  <thead>\n",
       "    <tr style=\"text-align: right;\">\n",
       "      <th></th>\n",
       "      <th>Model_0</th>\n",
       "      <th>Model_1</th>\n",
       "      <th>Model_2</th>\n",
       "      <th>Model_3</th>\n",
       "      <th>Model_4</th>\n",
       "      <th>Model_5</th>\n",
       "      <th>Model_6</th>\n",
       "      <th>Model_7</th>\n",
       "      <th>Model_8</th>\n",
       "      <th>Model_9</th>\n",
       "      <th>...</th>\n",
       "      <th>Model_22</th>\n",
       "      <th>Model_23</th>\n",
       "      <th>Model_24</th>\n",
       "      <th>Model_25</th>\n",
       "      <th>Model_26</th>\n",
       "      <th>Model_27</th>\n",
       "      <th>Model_28</th>\n",
       "      <th>Model_29</th>\n",
       "      <th>y_true</th>\n",
       "      <th>y_pred</th>\n",
       "    </tr>\n",
       "  </thead>\n",
       "  <tbody>\n",
       "    <tr>\n",
       "      <th>0</th>\n",
       "      <td>NaN</td>\n",
       "      <td>NaN</td>\n",
       "      <td>NaN</td>\n",
       "      <td>23.2</td>\n",
       "      <td>NaN</td>\n",
       "      <td>NaN</td>\n",
       "      <td>NaN</td>\n",
       "      <td>35.1</td>\n",
       "      <td>22.8</td>\n",
       "      <td>NaN</td>\n",
       "      <td>...</td>\n",
       "      <td>NaN</td>\n",
       "      <td>NaN</td>\n",
       "      <td>NaN</td>\n",
       "      <td>29.8</td>\n",
       "      <td>NaN</td>\n",
       "      <td>NaN</td>\n",
       "      <td>NaN</td>\n",
       "      <td>NaN</td>\n",
       "      <td>24.0</td>\n",
       "      <td>24.30</td>\n",
       "    </tr>\n",
       "    <tr>\n",
       "      <th>1</th>\n",
       "      <td>NaN</td>\n",
       "      <td>NaN</td>\n",
       "      <td>NaN</td>\n",
       "      <td>34.7</td>\n",
       "      <td>25.0</td>\n",
       "      <td>NaN</td>\n",
       "      <td>NaN</td>\n",
       "      <td>NaN</td>\n",
       "      <td>22.9</td>\n",
       "      <td>22.6</td>\n",
       "      <td>...</td>\n",
       "      <td>NaN</td>\n",
       "      <td>NaN</td>\n",
       "      <td>NaN</td>\n",
       "      <td>NaN</td>\n",
       "      <td>NaN</td>\n",
       "      <td>32.5</td>\n",
       "      <td>NaN</td>\n",
       "      <td>22.0</td>\n",
       "      <td>21.6</td>\n",
       "      <td>22.60</td>\n",
       "    </tr>\n",
       "    <tr>\n",
       "      <th>2</th>\n",
       "      <td>NaN</td>\n",
       "      <td>NaN</td>\n",
       "      <td>NaN</td>\n",
       "      <td>NaN</td>\n",
       "      <td>NaN</td>\n",
       "      <td>33.1</td>\n",
       "      <td>NaN</td>\n",
       "      <td>NaN</td>\n",
       "      <td>NaN</td>\n",
       "      <td>NaN</td>\n",
       "      <td>...</td>\n",
       "      <td>21.60</td>\n",
       "      <td>NaN</td>\n",
       "      <td>NaN</td>\n",
       "      <td>NaN</td>\n",
       "      <td>NaN</td>\n",
       "      <td>34.9</td>\n",
       "      <td>NaN</td>\n",
       "      <td>NaN</td>\n",
       "      <td>34.7</td>\n",
       "      <td>34.90</td>\n",
       "    </tr>\n",
       "    <tr>\n",
       "      <th>3</th>\n",
       "      <td>NaN</td>\n",
       "      <td>NaN</td>\n",
       "      <td>NaN</td>\n",
       "      <td>33.0</td>\n",
       "      <td>NaN</td>\n",
       "      <td>NaN</td>\n",
       "      <td>NaN</td>\n",
       "      <td>NaN</td>\n",
       "      <td>NaN</td>\n",
       "      <td>NaN</td>\n",
       "      <td>...</td>\n",
       "      <td>NaN</td>\n",
       "      <td>NaN</td>\n",
       "      <td>NaN</td>\n",
       "      <td>34.7</td>\n",
       "      <td>NaN</td>\n",
       "      <td>NaN</td>\n",
       "      <td>NaN</td>\n",
       "      <td>NaN</td>\n",
       "      <td>33.4</td>\n",
       "      <td>34.05</td>\n",
       "    </tr>\n",
       "    <tr>\n",
       "      <th>4</th>\n",
       "      <td>NaN</td>\n",
       "      <td>NaN</td>\n",
       "      <td>NaN</td>\n",
       "      <td>33.0</td>\n",
       "      <td>NaN</td>\n",
       "      <td>NaN</td>\n",
       "      <td>NaN</td>\n",
       "      <td>34.9</td>\n",
       "      <td>NaN</td>\n",
       "      <td>NaN</td>\n",
       "      <td>...</td>\n",
       "      <td>31.05</td>\n",
       "      <td>NaN</td>\n",
       "      <td>NaN</td>\n",
       "      <td>NaN</td>\n",
       "      <td>28.7</td>\n",
       "      <td>NaN</td>\n",
       "      <td>NaN</td>\n",
       "      <td>NaN</td>\n",
       "      <td>36.2</td>\n",
       "      <td>33.10</td>\n",
       "    </tr>\n",
       "  </tbody>\n",
       "</table>\n",
       "<p>5 rows × 32 columns</p>\n",
       "</div>"
      ],
      "text/plain": [
       "   Model_0  Model_1  Model_2  Model_3  Model_4  Model_5  Model_6  Model_7  \\\n",
       "0      NaN      NaN      NaN     23.2      NaN      NaN      NaN     35.1   \n",
       "1      NaN      NaN      NaN     34.7     25.0      NaN      NaN      NaN   \n",
       "2      NaN      NaN      NaN      NaN      NaN     33.1      NaN      NaN   \n",
       "3      NaN      NaN      NaN     33.0      NaN      NaN      NaN      NaN   \n",
       "4      NaN      NaN      NaN     33.0      NaN      NaN      NaN     34.9   \n",
       "\n",
       "   Model_8  Model_9  ...  Model_22  Model_23  Model_24  Model_25  Model_26  \\\n",
       "0     22.8      NaN  ...       NaN       NaN       NaN      29.8       NaN   \n",
       "1     22.9     22.6  ...       NaN       NaN       NaN       NaN       NaN   \n",
       "2      NaN      NaN  ...     21.60       NaN       NaN       NaN       NaN   \n",
       "3      NaN      NaN  ...       NaN       NaN       NaN      34.7       NaN   \n",
       "4      NaN      NaN  ...     31.05       NaN       NaN       NaN      28.7   \n",
       "\n",
       "   Model_27  Model_28  Model_29  y_true  y_pred  \n",
       "0       NaN       NaN       NaN    24.0   24.30  \n",
       "1      32.5       NaN      22.0    21.6   22.60  \n",
       "2      34.9       NaN       NaN    34.7   34.90  \n",
       "3       NaN       NaN       NaN    33.4   34.05  \n",
       "4       NaN       NaN       NaN    36.2   33.10  \n",
       "\n",
       "[5 rows x 32 columns]"
      ]
     },
     "execution_count": 29,
     "metadata": {},
     "output_type": "execute_result"
    }
   ],
   "source": [
    "oob_df.head()"
   ]
  },
  {
   "cell_type": "code",
   "execution_count": 30,
   "metadata": {
    "colab": {
     "base_uri": "https://localhost:8080/",
     "height": 218
    },
    "id": "V83oWb9hzok4",
    "outputId": "72c9792e-2261-4913-ceaf-c53c7ba94d15"
   },
   "outputs": [
    {
     "data": {
      "text/html": [
       "<div>\n",
       "<style scoped>\n",
       "    .dataframe tbody tr th:only-of-type {\n",
       "        vertical-align: middle;\n",
       "    }\n",
       "\n",
       "    .dataframe tbody tr th {\n",
       "        vertical-align: top;\n",
       "    }\n",
       "\n",
       "    .dataframe thead th {\n",
       "        text-align: right;\n",
       "    }\n",
       "</style>\n",
       "<table border=\"1\" class=\"dataframe\">\n",
       "  <thead>\n",
       "    <tr style=\"text-align: right;\">\n",
       "      <th></th>\n",
       "      <th>0</th>\n",
       "      <th>1</th>\n",
       "      <th>2</th>\n",
       "      <th>3</th>\n",
       "      <th>4</th>\n",
       "      <th>5</th>\n",
       "      <th>6</th>\n",
       "      <th>7</th>\n",
       "      <th>8</th>\n",
       "      <th>9</th>\n",
       "      <th>...</th>\n",
       "      <th>22</th>\n",
       "      <th>23</th>\n",
       "      <th>24</th>\n",
       "      <th>25</th>\n",
       "      <th>26</th>\n",
       "      <th>27</th>\n",
       "      <th>28</th>\n",
       "      <th>29</th>\n",
       "      <th>y_pred</th>\n",
       "      <th>y_true</th>\n",
       "    </tr>\n",
       "  </thead>\n",
       "  <tbody>\n",
       "    <tr>\n",
       "      <th>0</th>\n",
       "      <td>24.0</td>\n",
       "      <td>24.0</td>\n",
       "      <td>24.0</td>\n",
       "      <td>23.2</td>\n",
       "      <td>24.0</td>\n",
       "      <td>24.0</td>\n",
       "      <td>24.0</td>\n",
       "      <td>35.1</td>\n",
       "      <td>22.8</td>\n",
       "      <td>24.0</td>\n",
       "      <td>...</td>\n",
       "      <td>24.00</td>\n",
       "      <td>24.0</td>\n",
       "      <td>24.0</td>\n",
       "      <td>29.8</td>\n",
       "      <td>24.0</td>\n",
       "      <td>24.0</td>\n",
       "      <td>24.0</td>\n",
       "      <td>24.0</td>\n",
       "      <td>24.0</td>\n",
       "      <td>24.0</td>\n",
       "    </tr>\n",
       "    <tr>\n",
       "      <th>1</th>\n",
       "      <td>21.6</td>\n",
       "      <td>21.6</td>\n",
       "      <td>21.6</td>\n",
       "      <td>34.7</td>\n",
       "      <td>25.0</td>\n",
       "      <td>21.6</td>\n",
       "      <td>21.6</td>\n",
       "      <td>21.6</td>\n",
       "      <td>22.9</td>\n",
       "      <td>22.6</td>\n",
       "      <td>...</td>\n",
       "      <td>21.60</td>\n",
       "      <td>21.6</td>\n",
       "      <td>21.6</td>\n",
       "      <td>21.6</td>\n",
       "      <td>21.6</td>\n",
       "      <td>32.5</td>\n",
       "      <td>21.6</td>\n",
       "      <td>22.0</td>\n",
       "      <td>21.6</td>\n",
       "      <td>21.6</td>\n",
       "    </tr>\n",
       "    <tr>\n",
       "      <th>2</th>\n",
       "      <td>34.7</td>\n",
       "      <td>34.7</td>\n",
       "      <td>34.7</td>\n",
       "      <td>34.7</td>\n",
       "      <td>34.7</td>\n",
       "      <td>33.1</td>\n",
       "      <td>34.7</td>\n",
       "      <td>34.7</td>\n",
       "      <td>34.7</td>\n",
       "      <td>34.7</td>\n",
       "      <td>...</td>\n",
       "      <td>21.60</td>\n",
       "      <td>34.7</td>\n",
       "      <td>34.7</td>\n",
       "      <td>34.7</td>\n",
       "      <td>34.7</td>\n",
       "      <td>34.9</td>\n",
       "      <td>34.7</td>\n",
       "      <td>34.7</td>\n",
       "      <td>34.7</td>\n",
       "      <td>34.7</td>\n",
       "    </tr>\n",
       "    <tr>\n",
       "      <th>3</th>\n",
       "      <td>33.4</td>\n",
       "      <td>33.4</td>\n",
       "      <td>33.4</td>\n",
       "      <td>33.0</td>\n",
       "      <td>33.4</td>\n",
       "      <td>33.4</td>\n",
       "      <td>33.4</td>\n",
       "      <td>33.4</td>\n",
       "      <td>33.4</td>\n",
       "      <td>33.4</td>\n",
       "      <td>...</td>\n",
       "      <td>31.05</td>\n",
       "      <td>33.4</td>\n",
       "      <td>33.4</td>\n",
       "      <td>34.7</td>\n",
       "      <td>33.4</td>\n",
       "      <td>33.4</td>\n",
       "      <td>33.4</td>\n",
       "      <td>33.4</td>\n",
       "      <td>33.4</td>\n",
       "      <td>33.4</td>\n",
       "    </tr>\n",
       "    <tr>\n",
       "      <th>4</th>\n",
       "      <td>36.2</td>\n",
       "      <td>36.2</td>\n",
       "      <td>36.2</td>\n",
       "      <td>33.0</td>\n",
       "      <td>36.2</td>\n",
       "      <td>36.2</td>\n",
       "      <td>36.2</td>\n",
       "      <td>34.9</td>\n",
       "      <td>36.2</td>\n",
       "      <td>36.2</td>\n",
       "      <td>...</td>\n",
       "      <td>31.05</td>\n",
       "      <td>36.2</td>\n",
       "      <td>36.2</td>\n",
       "      <td>36.2</td>\n",
       "      <td>28.7</td>\n",
       "      <td>36.2</td>\n",
       "      <td>36.2</td>\n",
       "      <td>36.2</td>\n",
       "      <td>36.2</td>\n",
       "      <td>36.2</td>\n",
       "    </tr>\n",
       "  </tbody>\n",
       "</table>\n",
       "<p>5 rows × 32 columns</p>\n",
       "</div>"
      ],
      "text/plain": [
       "      0     1     2     3     4     5     6     7     8     9  ...     22  \\\n",
       "0  24.0  24.0  24.0  23.2  24.0  24.0  24.0  35.1  22.8  24.0  ...  24.00   \n",
       "1  21.6  21.6  21.6  34.7  25.0  21.6  21.6  21.6  22.9  22.6  ...  21.60   \n",
       "2  34.7  34.7  34.7  34.7  34.7  33.1  34.7  34.7  34.7  34.7  ...  21.60   \n",
       "3  33.4  33.4  33.4  33.0  33.4  33.4  33.4  33.4  33.4  33.4  ...  31.05   \n",
       "4  36.2  36.2  36.2  33.0  36.2  36.2  36.2  34.9  36.2  36.2  ...  31.05   \n",
       "\n",
       "     23    24    25    26    27    28    29  y_pred  y_true  \n",
       "0  24.0  24.0  29.8  24.0  24.0  24.0  24.0    24.0    24.0  \n",
       "1  21.6  21.6  21.6  21.6  32.5  21.6  22.0    21.6    21.6  \n",
       "2  34.7  34.7  34.7  34.7  34.9  34.7  34.7    34.7    34.7  \n",
       "3  33.4  33.4  34.7  33.4  33.4  33.4  33.4    33.4    33.4  \n",
       "4  36.2  36.2  36.2  28.7  36.2  36.2  36.2    36.2    36.2  \n",
       "\n",
       "[5 rows x 32 columns]"
      ]
     },
     "execution_count": 30,
     "metadata": {},
     "output_type": "execute_result"
    }
   ],
   "source": [
    "output_df.head(5)"
   ]
  },
  {
   "cell_type": "markdown",
   "metadata": {
    "id": "qKwy6IQ7zok4"
   },
   "source": [
    "#### TASK 03 OBSERVATIONS: \n",
    "- The predicted values of all the base models for the given query points are:"
   ]
  },
  {
   "cell_type": "code",
   "execution_count": 31,
   "metadata": {
    "id": "QIlAXy0lzok4"
   },
   "outputs": [
    {
     "name": "stdout",
     "output_type": "stream",
     "text": [
      "Output of all the base models are : [23.1, 26.4, 19.4, 24.3, 17.6, 18.8, 19.1, 17.6, 19.4, 22.5, 17.3, 22.5, 17.6, 22.5, 19.4, 18.5, 13.9, 17.2, 17.8, 19.7, 18.5, 18.5, 20.0, 18.5, 21.7, 19.1, 18.5, 20.0, 18.5, 14.3]\n"
     ]
    }
   ],
   "source": [
    "print(\"Output of all the base models are :\", predicted_yq)\n"
   ]
  },
  {
   "cell_type": "markdown",
   "metadata": {
    "id": "dhCiA81czok5"
   },
   "source": [
    "We have computed median of above outputs to compute predicted value of the given dataset."
   ]
  }
 ],
 "metadata": {
  "accelerator": "TPU",
  "colab": {
   "collapsed_sections": [],
   "name": "Bootstrap_assignment_Solution_3.ipynb",
   "provenance": []
  },
  "kernelspec": {
   "display_name": "Python 3",
   "language": "python",
   "name": "python3"
  },
  "language_info": {
   "codemirror_mode": {
    "name": "ipython",
    "version": 3
   },
   "file_extension": ".py",
   "mimetype": "text/x-python",
   "name": "python",
   "nbconvert_exporter": "python",
   "pygments_lexer": "ipython3",
   "version": "3.6.5"
  }
 },
 "nbformat": 4,
 "nbformat_minor": 1
}
